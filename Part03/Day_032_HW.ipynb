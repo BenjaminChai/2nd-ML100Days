{
 "cells": [
  {
   "cell_type": "markdown",
   "metadata": {},
   "source": [
    "## 練習時間\n",
    "相信大家目前都能夠初步了解機器學習專案的流程及步驟，今天的作業希望大家能夠看看全球機器學習巨頭們在做的機器學習專案。以 google 為例，下圖是 Google 內部專案使用機器學習的數量，隨著時間進展，現在早已超過 2000 個專案在使用 ML。"
   ]
  },
  {
   "cell_type": "markdown",
   "metadata": {},
   "source": [
    "![image](https://cdn-images-1.medium.com/max/800/1*U_L8qI8RmYS-MOBrYvXhSA.png)"
   ]
  },
  {
   "cell_type": "markdown",
   "metadata": {},
   "source": [
    "底下幫同學整理幾間知名企業的 blog 或機器學習網站 (自行搜尋也可)，請挑選一篇文章閱讀並試著回答\n",
    "1. 專案的目標？ (要解決什麼問題）\n",
    "2. 使用的技術是？ (只需知道名稱即可，例如：使用 CNN 卷積神經網路做影像分類)\n",
    "3. 資料來源？ "
   ]
  },
  {
   "cell_type": "markdown",
   "metadata": {},
   "source": [
    "- [Google AI blog](https://ai.googleblog.com/)\n",
    "- [Facebook Research blog](https://research.fb.com/blog/)\n",
    "- [Apple machine learning journal](https://machinelearning.apple.com/)\n",
    "- [機器之心](https://www.jiqizhixin.com/)\n",
    "- [雷鋒網](http://www.leiphone.com/category/ai)"
   ]
  },
  {
   "cell_type": "markdown",
   "metadata": {},
   "source": [
    "## Ans:\n",
    "\n",
    "### 閱讀文章：[Using Deep Learning to Improve Usability on Mobile Devices](https://ai.googleblog.com/2019/04/using-deep-learning-to-improve.html)\n",
    "\n",
    "1. **專案的目標？** (要解決什麼問題）\n",
    "    - 在行動界面上，不像桌面應用程式，人們常會誤判哪些東西可以點擊/不能點擊，造成體驗變差或操作錯誤。\n",
    "    - 對UI的使用者研究雖然可以做，但很耗時和花錢。\n",
    "    - 希望有個model能夠判別UI介面是否會發生上述的「錯誤判斷可以/不可以點擊」。\n",
    "\n",
    "\n",
    "2. **使用的技術是？** (只需知道名稱即可，例如：使用 CNN 卷積神經網路做影像分類)\n",
    "    - 用CNN取得圖形介面的特徵。\n",
    "    - 用DNN做分類判別(能否點擊)\n",
    "\n",
    "\n",
    "3. **資料來源？**\n",
    "    - 使用Google的CrowdSourcing來收集人對於3500個app中的20000個介面元件的標記資料(覺得能否點擊)，同時收集元件的顏色、文字、位置、大小....等feature。\n",
    "\n",
    "![](https://3.bp.blogspot.com/-X_ipIFkfnfY/XJ54wm3FH0I/AAAAAAAAEAE/xsnDRTVFmrkQ-SslIL0-7FRNjGqesKKEgCLcBGAs/s640/image3.png)\n"
   ]
  }
 ],
 "metadata": {
  "kernelspec": {
   "display_name": "Python 3",
   "language": "python",
   "name": "python3"
  },
  "language_info": {
   "codemirror_mode": {
    "name": "ipython",
    "version": 3
   },
   "file_extension": ".py",
   "mimetype": "text/x-python",
   "name": "python",
   "nbconvert_exporter": "python",
   "pygments_lexer": "ipython3",
   "version": "3.7.1"
  },
  "varInspector": {
   "cols": {
    "lenName": 16,
    "lenType": 16,
    "lenVar": 40
   },
   "kernels_config": {
    "python": {
     "delete_cmd_postfix": "",
     "delete_cmd_prefix": "del ",
     "library": "var_list.py",
     "varRefreshCmd": "print(var_dic_list())"
    },
    "r": {
     "delete_cmd_postfix": ") ",
     "delete_cmd_prefix": "rm(",
     "library": "var_list.r",
     "varRefreshCmd": "cat(var_dic_list()) "
    }
   },
   "types_to_exclude": [
    "module",
    "function",
    "builtin_function_or_method",
    "instance",
    "_Feature"
   ],
   "window_display": false
  }
 },
 "nbformat": 4,
 "nbformat_minor": 2
}
