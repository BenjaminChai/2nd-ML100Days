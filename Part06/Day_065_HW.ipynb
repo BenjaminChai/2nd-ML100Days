{
 "cells": [
  {
   "cell_type": "markdown",
   "metadata": {},
   "source": [
    "# 作業\n",
    "* 選擇分類資料集(右下)-螺旋雙臂 - 交錯六群，限定特徵只能使用前兩個，隱藏層 2 層滿 (共 8 * 2 =16 個神經元)，  \n",
    "  遞迴次數只允許跑到500次，但可以自由調整 批次大小、學習速率、啟動函數、正規化選項與參數\n",
    "* 在上述限制下，挑戰看看測試誤差 (Test Loss) 最低能到多少? 請回答你的上述幾項參數與 Test Loss 數"
   ]
  },
  {
   "cell_type": "markdown",
   "metadata": {
    "collapsed": true
   },
   "source": [
    "## Ans:\n",
    "- **Test Loss: 0.041**\n",
    "- **Params:**\n",
    "> - Batch size: 8\n",
    "> - Learning rate: 0.03\n",
    "> - Activation: Relu\n",
    "> - Regularization/rate: None\n",
    "\n",
    "- 因為限制epoch = 500，採用比較大的Learning Rate，搭配Relu避免overfit，感覺效果比較佳。\n",
    "- 用過Regularization，但搭配起來有些underfit，效果不好。\n",
    "- 因為限的是epoch次數不是時間，所以Batch size調小一點看能否加速收斂，不過調太小反而中間會學到一些雜訊，收斂效果不一定好。\n",
    "- 每次實驗初始的權重和過程也有影響，不一定每次效果都一樣。"
   ]
  },
  {
   "cell_type": "markdown",
   "metadata": {
    "collapsed": true
   },
   "source": [
    "### Experience 1\n",
    "- Test loss: 0.067\n",
    "- Training loss: 0.014\n",
    "> - Batch size: 5\n",
    "> - Learning rate: 0.1\n",
    "> - Activation: Relu\n",
    "> - Regularization/rate: L2 / 0.003\n",
    "\n",
    "### Experience 2\n",
    "- Test loss: 0.076\n",
    "- Training loss: 0.009\n",
    "> - Batch size: 5\n",
    "> - Learning rate: 0.1\n",
    "> - Activation: Relu\n",
    "> - Regularization/rate: L2 / 0.001\n",
    "\n",
    "### Experience 3\n",
    "- Test loss: 0.064\n",
    "- Training loss: 0.001\n",
    "> - Batch size: 10\n",
    "> - Learning rate: 0.1\n",
    "> - Activation: Relu\n",
    "> - Regularization/rate: None\n",
    "\n",
    "### Experience 4\n",
    "- Test loss: 0.075\n",
    "- Training loss: 0.001\n",
    "> - Batch size: 6\n",
    "> - Learning rate: 0.03\n",
    "> - Activation: Relu\n",
    "> - Regularization/rate: None\n",
    "\n",
    "### Experience 5\n",
    "- Test loss: 0.069\n",
    "- Training loss: 0.000\n",
    "> - Batch size: 4\n",
    "> - Learning rate: 0.03\n",
    "> - Activation: Relu\n",
    "> - Regularization/rate: None\n",
    "\n",
    "### Experience 6\n",
    "- Test loss: 0.041\n",
    "- Training loss: 0.009\n",
    "> - Batch size: 8\n",
    "> - Learning rate: 0.03\n",
    "> - Activation: Relu\n",
    "> - Regularization/rate: None"
   ]
  }
 ],
 "metadata": {
  "kernelspec": {
   "display_name": "Python 3",
   "language": "python",
   "name": "python3"
  },
  "language_info": {
   "codemirror_mode": {
    "name": "ipython",
    "version": 3
   },
   "file_extension": ".py",
   "mimetype": "text/x-python",
   "name": "python",
   "nbconvert_exporter": "python",
   "pygments_lexer": "ipython3",
   "version": "3.7.1"
  },
  "toc": {
   "base_numbering": 1,
   "nav_menu": {},
   "number_sections": true,
   "sideBar": true,
   "skip_h1_title": false,
   "title_cell": "Table of Contents",
   "title_sidebar": "Contents",
   "toc_cell": false,
   "toc_position": {},
   "toc_section_display": true,
   "toc_window_display": false
  },
  "varInspector": {
   "cols": {
    "lenName": 16,
    "lenType": 16,
    "lenVar": 40
   },
   "kernels_config": {
    "python": {
     "delete_cmd_postfix": "",
     "delete_cmd_prefix": "del ",
     "library": "var_list.py",
     "varRefreshCmd": "print(var_dic_list())"
    },
    "r": {
     "delete_cmd_postfix": ") ",
     "delete_cmd_prefix": "rm(",
     "library": "var_list.r",
     "varRefreshCmd": "cat(var_dic_list()) "
    }
   },
   "types_to_exclude": [
    "module",
    "function",
    "builtin_function_or_method",
    "instance",
    "_Feature"
   ],
   "window_display": false
  }
 },
 "nbformat": 4,
 "nbformat_minor": 2
}
