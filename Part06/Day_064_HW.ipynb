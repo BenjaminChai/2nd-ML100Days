{
 "cells": [
  {
   "cell_type": "markdown",
   "metadata": {},
   "source": [
    "# 作業\n",
    "* 選擇迴歸資料集(右) - 交錯六群，在其他參數保持預設值的情況下，只允許調整隱藏層層數與神經元數量，且遵守下列限制   \n",
    "> * 隱藏層神經元總數最多 8 個 (即 : 可以單層 8 個，或兩層 5 個與 3 個)   \n",
    "> * 遞迴次數只允許跑到500次  \n",
    "* 在上述限制下，挑戰看看測試誤差 (Test Loss) 最低能到多少? 請回答你的神經元參數與 Test Loss 數"
   ]
  },
  {
   "cell_type": "markdown",
   "metadata": {
    "collapsed": true
   },
   "source": []
  },
  {
   "cell_type": "markdown",
   "metadata": {},
   "source": [
    "## Ans:\n",
    "- test loss最低的組合是hidden layer單層8個neuron。\n",
    "- 觀察圖形，應該是第一層hidden layer的neuron多的時候，從input layer組合出來的第一層hidden layer的特徵變化比較多，對於這種非線性、較複雜的資料來說能較好的fit；反之如果第一層hidden layer的neuron太少，模型複雜度不夠，學習的效果就比較不好。\n",
    "- 以下附上各種組合的Test Loss/Train Loss以及hidden layers的組合。"
   ]
  },
  {
   "cell_type": "markdown",
   "metadata": {},
   "source": [
    "- experience 1: 0.014/0.013\n",
    "> - hidden layers: 8\n",
    "\n",
    "- experience 2: 0.041/0.041\n",
    "> - hidden layers: 1 x 7\n",
    "\n",
    "- experience 3: 0.029/0.028\n",
    "> - hidden layers: 2 x 6\n",
    "\n",
    "- experience 4: 0.029/0.027\n",
    "> - hidden layers: 3 x 5\n",
    "\n",
    "- experience 5: 0.018/0.017\n",
    "> - hidden layers: 4 x 4\n",
    "\n",
    "- experience 6: 0.018/0.017\n",
    "> - hidden layers: 5 x 3\n",
    "\n",
    "- experience 7: 0.017/0.017\n",
    "> - hidden layers: 6 x 2\n",
    "\n",
    "- experience 8: 0.017/0.016\n",
    "> - hidden layers: 7 x 1\n",
    "\n",
    "- experience 9: 0.044/0.042\n",
    "> - hidden layers: 1 x 1 x 6\n",
    "\n",
    "- experience 10: 0.033/0.030\n",
    "> - hidden layers: 2 x 3 x 3\n",
    "\n",
    "- experience 11: 0.021/0.020\n",
    "> - hidden layers: 3 x 3 x 2\n",
    "\n",
    "- experience 12: 0.019/0.018\n",
    "> - hidden layers: 4 x 2 x 2"
   ]
  }
 ],
 "metadata": {
  "kernelspec": {
   "display_name": "Python 3",
   "language": "python",
   "name": "python3"
  },
  "language_info": {
   "codemirror_mode": {
    "name": "ipython",
    "version": 3
   },
   "file_extension": ".py",
   "mimetype": "text/x-python",
   "name": "python",
   "nbconvert_exporter": "python",
   "pygments_lexer": "ipython3",
   "version": "3.7.1"
  },
  "toc": {
   "base_numbering": 1,
   "nav_menu": {},
   "number_sections": true,
   "sideBar": true,
   "skip_h1_title": false,
   "title_cell": "Table of Contents",
   "title_sidebar": "Contents",
   "toc_cell": false,
   "toc_position": {},
   "toc_section_display": true,
   "toc_window_display": false
  },
  "varInspector": {
   "cols": {
    "lenName": 16,
    "lenType": 16,
    "lenVar": 40
   },
   "kernels_config": {
    "python": {
     "delete_cmd_postfix": "",
     "delete_cmd_prefix": "del ",
     "library": "var_list.py",
     "varRefreshCmd": "print(var_dic_list())"
    },
    "r": {
     "delete_cmd_postfix": ") ",
     "delete_cmd_prefix": "rm(",
     "library": "var_list.r",
     "varRefreshCmd": "cat(var_dic_list()) "
    }
   },
   "types_to_exclude": [
    "module",
    "function",
    "builtin_function_or_method",
    "instance",
    "_Feature"
   ],
   "window_display": false
  }
 },
 "nbformat": 4,
 "nbformat_minor": 2
}
