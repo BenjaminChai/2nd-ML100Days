{
 "cells": [
  {
   "cell_type": "markdown",
   "metadata": {},
   "source": [
    "# 說明\n",
    "- 參考文章：[https://github.com/ypwhs/dogs_vs_cats](https://github.com/ypwhs/dogs_vs_cats)"
   ]
  },
  {
   "cell_type": "code",
   "execution_count": 1,
   "metadata": {
    "ExecuteTime": {
     "end_time": "2019-08-18T15:45:23.838455Z",
     "start_time": "2019-08-18T15:45:21.169823Z"
    }
   },
   "outputs": [
    {
     "name": "stderr",
     "output_type": "stream",
     "text": [
      "Using TensorFlow backend.\n"
     ]
    }
   ],
   "source": [
    "import os\n",
    "\n",
    "from keras.models import *\n",
    "from keras.layers import *\n",
    "from keras.applications import *\n",
    "from keras.preprocessing.image import *\n",
    "\n",
    "import h5py\n",
    "import numpy as np\n",
    "import pandas as pd\n",
    "from sklearn.utils import shuffle\n",
    "from sklearn.model_selection import train_test_split\n",
    "from sklearn.metrics import roc_curve\n",
    "from sklearn.metrics import auc\n",
    "\n",
    "import matplotlib.pyplot as plt\n",
    "\n",
    "%matplotlib inline"
   ]
  },
  {
   "cell_type": "code",
   "execution_count": 2,
   "metadata": {
    "ExecuteTime": {
     "end_time": "2019-08-18T15:45:24.842165Z",
     "start_time": "2019-08-18T15:45:24.820160Z"
    }
   },
   "outputs": [],
   "source": [
    "file_path = []\n",
    "category = []\n",
    "\n",
    "for d in ['cats', 'dogs']:\n",
    "    dir_path = 'data/train/' + d\n",
    "    for file in os.listdir(dir_path):\n",
    "        file_path.append(dir_path+ '/' + file)\n",
    "        category.append(file.split('.')[0])\n",
    "\n",
    "df_train = pd.DataFrame({'file_path': file_path, 'category': category})\n",
    "\n",
    "df_test = pd.DataFrame({'file_path': os.listdir('data/test')})\n",
    "df_test['file_path'] = df_test['file_path'].apply(lambda s: 'data/test/'+s)\n",
    "\n",
    "# train, valid = train_test_split(df_train, test_size=0.2)"
   ]
  },
  {
   "cell_type": "code",
   "execution_count": null,
   "metadata": {},
   "outputs": [],
   "source": [
    "\n",
    "\"\"\"    train_datagen = ImageDataGenerator(rescale=1./255, \n",
    "                                       rotation_range=40,\n",
    "                                       width_shift_range=0.2,\n",
    "                                       height_shift_range=0.2,\n",
    "                                       shear_range=0.2,\n",
    "                                       zoom_range=0.2,\n",
    "                                       channel_shift_range=10,\n",
    "                                       horizontal_flip=True,\n",
    "                                       fill_mode='nearest')\n",
    "    \n",
    "    valid_datagen = ImageDataGenerator(rescale=1./255)\"\"\"\n"
   ]
  },
  {
   "cell_type": "code",
   "execution_count": 58,
   "metadata": {
    "ExecuteTime": {
     "end_time": "2019-08-18T16:39:27.617596Z",
     "start_time": "2019-08-18T16:35:42.676451Z"
    }
   },
   "outputs": [
    {
     "name": "stdout",
     "output_type": "stream",
     "text": [
      "Found 4000 validated image filenames belonging to 2 classes.\n",
      "Found 400 validated image filenames.\n",
      "250/250 [==============================] - 30s 121ms/step\n",
      "25/25 [==============================] - 3s 107ms/step\n",
      "Found 4000 validated image filenames belonging to 2 classes.\n",
      "Found 400 validated image filenames.\n",
      "250/250 [==============================] - 40s 161ms/step\n",
      "25/25 [==============================] - 3s 130ms/step\n",
      "Found 4000 validated image filenames belonging to 2 classes.\n",
      "Found 400 validated image filenames.\n",
      "250/250 [==============================] - 61s 242ms/step\n",
      "25/25 [==============================] - 6s 224ms/step\n"
     ]
    }
   ],
   "source": [
    "def write_gap(MODEL, model_name, image_size, lambda_func=None):\n",
    "    width = image_size[0]\n",
    "    height = image_size[1]\n",
    "    input_tensor = Input((height, width, 3))\n",
    "    x = input_tensor\n",
    "    if lambda_func:\n",
    "        x = Lambda(lambda_func)(x)\n",
    "    \n",
    "    base_model = MODEL(input_tensor=x, weights='imagenet', include_top=False)\n",
    "    model = Model(base_model.input, GlobalAveragePooling2D()(base_model.output))\n",
    "\n",
    "    train_datagen = ImageDataGenerator()\n",
    "    valid_datagen = ImageDataGenerator()\n",
    "    \n",
    "    train_generator = train_datagen.flow_from_dataframe(df_train,\n",
    "                                                        x_col='file_path', \n",
    "                                                        y_col='category',\n",
    "                                                        target_size=image_size,\n",
    "                                                        interpolation='bicubic',\n",
    "                                                        class_mode='categorical',\n",
    "                                                        shuffle=False,\n",
    "                                                        batch_size=16)\n",
    "\n",
    "    test_generator = valid_datagen.flow_from_dataframe(df_test, \n",
    "                                                       x_col='file_path', \n",
    "                                                        target_size=image_size, \n",
    "                                                        batch_size=16,\n",
    "                                                        class_mode=None, \n",
    "                                                        shuffle=False)\n",
    "\n",
    "    train = model.predict_generator(train_generator, verbose=1, steps=len(train_generator))\n",
    "    test = model.predict_generator(test_generator, verbose=1, steps=len(test_generator))\n",
    "    with h5py.File(\"gap_%s.h5\"%model_name) as h:\n",
    "        h.create_dataset(\"train\", data=train)\n",
    "        h.create_dataset(\"test\", data=test)\n",
    "        h.create_dataset(\"label\", data=train_generator.classes)\n",
    "\n",
    "write_gap(ResNet50, 'ResNet50', (224, 224))\n",
    "write_gap(InceptionV3, 'InceptionV3', (299, 299), inception_v3.preprocess_input)\n",
    "write_gap(Xception, 'Xception', (299, 299), xception.preprocess_input)"
   ]
  },
  {
   "cell_type": "code",
   "execution_count": 59,
   "metadata": {
    "ExecuteTime": {
     "end_time": "2019-08-18T16:39:27.963598Z",
     "start_time": "2019-08-18T16:39:27.680597Z"
    }
   },
   "outputs": [],
   "source": [
    "X_train = []\n",
    "X_test = []\n",
    "\n",
    "for filename in [\"gap_ResNet50.h5\", \"gap_Xception.h5\", \"gap_InceptionV3.h5\"]:\n",
    "    with h5py.File(filename, 'r') as h:\n",
    "        X_train.append(np.array(h['train']))\n",
    "        X_test.append(np.array(h['test']))\n",
    "        y_train = np.array(h['label'])\n",
    "\n",
    "X_train = np.concatenate(X_train, axis=1)\n",
    "X_test = np.concatenate(X_test, axis=1)\n",
    "\n",
    "X_train, y_train = shuffle(X_train, y_train)"
   ]
  },
  {
   "cell_type": "code",
   "execution_count": 60,
   "metadata": {
    "ExecuteTime": {
     "end_time": "2019-08-18T16:39:28.096644Z",
     "start_time": "2019-08-18T16:39:28.014575Z"
    }
   },
   "outputs": [],
   "source": [
    "input_tensor = Input(X_train.shape[1:])\n",
    "x = Dropout(0.5)(input_tensor)\n",
    "x = Dense(1, activation='sigmoid')(x)\n",
    "model = Model(input_tensor, x)\n",
    "\n",
    "model.compile(optimizer='adadelta',\n",
    "              loss='binary_crossentropy',\n",
    "              metrics=['accuracy'])"
   ]
  },
  {
   "cell_type": "code",
   "execution_count": 87,
   "metadata": {
    "ExecuteTime": {
     "end_time": "2019-08-19T02:48:50.031960Z",
     "start_time": "2019-08-19T02:48:50.024996Z"
    }
   },
   "outputs": [
    {
     "ename": "SyntaxError",
     "evalue": "invalid syntax (<ipython-input-87-bad78206b41c>, line 1)",
     "output_type": "error",
     "traceback": [
      "\u001b[1;36m  File \u001b[1;32m\"<ipython-input-87-bad78206b41c>\"\u001b[1;36m, line \u001b[1;32m1\u001b[0m\n\u001b[1;33m    digraph G{\u001b[0m\n\u001b[1;37m            ^\u001b[0m\n\u001b[1;31mSyntaxError\u001b[0m\u001b[1;31m:\u001b[0m invalid syntax\n"
     ]
    }
   ],
   "source": [
    "digraph G{\n",
    "    node [shape=record]\n",
    "    a[label=\"ResNet50|{input:|output:}|{(224, 224, 3)|(2048)}\"]\n",
    "    b[label=\"InceptionV3|{input:|output:}|{(299, 299, 3)|(2048)}\"]\n",
    "    c[label=\"Xception|{input:|output:}|{(299, 299, 3)|(2048)}\"]\n",
    "    Merge[label=\"Merge|{input:|output:}|{(3, 2048)|(6144)}\"]\n",
    "    Dropout[label=\"Dropout|Rate:|0.5\"]\n",
    "    Output[label=\"Output|{input:|output:}|{(6144)|(1)}\"]\n",
    "    Image -> a -> Merge\n",
    "    Image -> b -> Merge\n",
    "    Image -> c -> Merge\n",
    "    Merge -> Dropout -> Output\n",
    "}"
   ]
  },
  {
   "cell_type": "code",
   "execution_count": 61,
   "metadata": {
    "ExecuteTime": {
     "end_time": "2019-08-18T16:39:47.127054Z",
     "start_time": "2019-08-18T16:39:28.149582Z"
    }
   },
   "outputs": [
    {
     "name": "stderr",
     "output_type": "stream",
     "text": [
      "C:\\Users\\benja\\Anaconda3\\envs\\ml_100_days\\lib\\site-packages\\ipykernel_launcher.py:1: UserWarning: The `nb_epoch` argument in `fit` has been renamed `epochs`.\n",
      "  \"\"\"Entry point for launching an IPython kernel.\n"
     ]
    },
    {
     "name": "stdout",
     "output_type": "stream",
     "text": [
      "Train on 3200 samples, validate on 800 samples\n",
      "Epoch 1/8\n",
      "3200/3200 [==============================] - 16s 5ms/step - loss: 0.2825 - acc: 0.8925 - val_loss: 0.0910 - val_acc: 0.9900\n",
      "Epoch 2/8\n",
      "3200/3200 [==============================] - 0s 130us/step - loss: 0.0840 - acc: 0.9819 - val_loss: 0.0574 - val_acc: 0.9912\n",
      "Epoch 3/8\n",
      "3200/3200 [==============================] - 0s 133us/step - loss: 0.0528 - acc: 0.9897 - val_loss: 0.0381 - val_acc: 0.9938\n",
      "Epoch 4/8\n",
      "3200/3200 [==============================] - 0s 141us/step - loss: 0.0399 - acc: 0.9909 - val_loss: 0.0292 - val_acc: 0.9950\n",
      "Epoch 5/8\n",
      "3200/3200 [==============================] - 0s 129us/step - loss: 0.0290 - acc: 0.9928 - val_loss: 0.0248 - val_acc: 0.9925\n",
      "Epoch 6/8\n",
      "3200/3200 [==============================] - 0s 142us/step - loss: 0.0260 - acc: 0.9937 - val_loss: 0.0221 - val_acc: 0.9925\n",
      "Epoch 7/8\n",
      "3200/3200 [==============================] - 0s 135us/step - loss: 0.0204 - acc: 0.9934 - val_loss: 0.0250 - val_acc: 0.9925\n",
      "Epoch 8/8\n",
      "3200/3200 [==============================] - 0s 135us/step - loss: 0.0172 - acc: 0.9962 - val_loss: 0.0186 - val_acc: 0.9925\n"
     ]
    },
    {
     "data": {
      "text/plain": [
       "<keras.callbacks.History at 0x2a4d210f908>"
      ]
     },
     "execution_count": 61,
     "metadata": {},
     "output_type": "execute_result"
    }
   ],
   "source": [
    "model.fit(X_train, y_train, batch_size=128, nb_epoch=8, validation_split=0.2)"
   ]
  },
  {
   "cell_type": "code",
   "execution_count": 62,
   "metadata": {
    "ExecuteTime": {
     "end_time": "2019-08-18T16:39:47.497086Z",
     "start_time": "2019-08-18T16:39:47.187086Z"
    }
   },
   "outputs": [
    {
     "data": {
      "image/png": "[encoded data removed]",
      "text/plain": [
       "<Figure size 432x288 with 1 Axes>"
      ]
     },
     "metadata": {
      "needs_background": "light"
     },
     "output_type": "display_data"
    },
    {
     "data": {
      "image/png": "[encoded data removed]",
      "text/plain": [
       "<Figure size 432x288 with 1 Axes>"
      ]
     },
     "metadata": {
      "needs_background": "light"
     },
     "output_type": "display_data"
    }
   ],
   "source": [
    "# 檢視訓練過程\n",
    "\n",
    "train_loss = model.history.history[\"loss\"]\n",
    "valid_loss = model.history.history[\"val_loss\"]\n",
    "train_acc = model.history.history[\"acc\"]\n",
    "valid_acc = model.history.history[\"val_acc\"]\n",
    "\n",
    "plt.plot(range(len(train_loss)), train_loss, label=\"train loss\")\n",
    "plt.plot(range(len(valid_loss)), valid_loss, label=\"valid loss\")\n",
    "plt.legend()\n",
    "plt.title(\"Loss\")\n",
    "plt.show()\n",
    "\n",
    "plt.plot(range(len(train_acc)), train_acc, label=\"train accuracy\")\n",
    "plt.plot(range(len(valid_acc)), valid_acc, label=\"valid accuracy\")\n",
    "plt.legend()\n",
    "plt.title(\"Accuracy\")\n",
    "plt.show()"
   ]
  },
  {
   "cell_type": "code",
   "execution_count": 78,
   "metadata": {
    "ExecuteTime": {
     "end_time": "2019-08-18T16:44:06.023297Z",
     "start_time": "2019-08-18T16:44:05.670006Z"
    }
   },
   "outputs": [
    {
     "name": "stdout",
     "output_type": "stream",
     "text": [
      "400/400 [==============================] - 0s 871us/step\n"
     ]
    }
   ],
   "source": [
    "# 預測test data\n",
    "y_pred = model.predict(X_test, verbose=1)\n",
    "# y_pred = y_pred.clip(min=0.005, max=0.995)"
   ]
  },
  {
   "cell_type": "code",
   "execution_count": 80,
   "metadata": {
    "ExecuteTime": {
     "end_time": "2019-08-18T16:44:14.152492Z",
     "start_time": "2019-08-18T16:44:14.142494Z"
    }
   },
   "outputs": [
    {
     "data": {
      "text/html": [
       "<div>\n",
       "<style scoped>\n",
       "    .dataframe tbody tr th:only-of-type {\n",
       "        vertical-align: middle;\n",
       "    }\n",
       "\n",
       "    .dataframe tbody tr th {\n",
       "        vertical-align: top;\n",
       "    }\n",
       "\n",
       "    .dataframe thead th {\n",
       "        text-align: right;\n",
       "    }\n",
       "</style>\n",
       "<table border=\"1\" class=\"dataframe\">\n",
       "  <thead>\n",
       "    <tr style=\"text-align: right;\">\n",
       "      <th></th>\n",
       "      <th>ID</th>\n",
       "      <th>Predicted</th>\n",
       "    </tr>\n",
       "  </thead>\n",
       "  <tbody>\n",
       "    <tr>\n",
       "      <th>0</th>\n",
       "      <td>000</td>\n",
       "      <td>0.048424</td>\n",
       "    </tr>\n",
       "    <tr>\n",
       "      <th>1</th>\n",
       "      <td>001</td>\n",
       "      <td>0.092810</td>\n",
       "    </tr>\n",
       "    <tr>\n",
       "      <th>2</th>\n",
       "      <td>002</td>\n",
       "      <td>0.000585</td>\n",
       "    </tr>\n",
       "    <tr>\n",
       "      <th>3</th>\n",
       "      <td>003</td>\n",
       "      <td>0.999194</td>\n",
       "    </tr>\n",
       "    <tr>\n",
       "      <th>4</th>\n",
       "      <td>004</td>\n",
       "      <td>0.000241</td>\n",
       "    </tr>\n",
       "  </tbody>\n",
       "</table>\n",
       "</div>"
      ],
      "text/plain": [
       "    ID  Predicted\n",
       "0  000   0.048424\n",
       "1  001   0.092810\n",
       "2  002   0.000585\n",
       "3  003   0.999194\n",
       "4  004   0.000241"
      ]
     },
     "execution_count": 80,
     "metadata": {},
     "output_type": "execute_result"
    }
   ],
   "source": [
    "pic_id = df_test['file_path'].apply(lambda s: s[10:13])\n",
    "solution = pd.DataFrame({\"ID\": pic_id, \"Predicted\":y_pred[:,0]})\n",
    "\n",
    "solution.head()"
   ]
  },
  {
   "cell_type": "code",
   "execution_count": 81,
   "metadata": {
    "ExecuteTime": {
     "end_time": "2019-08-18T16:44:17.132693Z",
     "start_time": "2019-08-18T16:44:17.117688Z"
    }
   },
   "outputs": [],
   "source": [
    "solution.to_csv('submission_3models_0819.csv', index=False)"
   ]
  }
 ],
 "metadata": {
  "kernelspec": {
   "display_name": "ML 100 Days",
   "language": "python",
   "name": "ml_100_days"
  },
  "language_info": {
   "codemirror_mode": {
    "name": "ipython",
    "version": 3
   },
   "file_extension": ".py",
   "mimetype": "text/x-python",
   "name": "python",
   "nbconvert_exporter": "python",
   "pygments_lexer": "ipython3",
   "version": "3.7.1"
  },
  "toc": {
   "base_numbering": 1,
   "nav_menu": {},
   "number_sections": true,
   "sideBar": true,
   "skip_h1_title": false,
   "title_cell": "Table of Contents",
   "title_sidebar": "Contents",
   "toc_cell": false,
   "toc_position": {},
   "toc_section_display": true,
   "toc_window_display": false
  },
  "varInspector": {
   "cols": {
    "lenName": 16,
    "lenType": 16,
    "lenVar": 40
   },
   "kernels_config": {
    "python": {
     "delete_cmd_postfix": "",
     "delete_cmd_prefix": "del ",
     "library": "var_list.py",
     "varRefreshCmd": "print(var_dic_list())"
    },
    "r": {
     "delete_cmd_postfix": ") ",
     "delete_cmd_prefix": "rm(",
     "library": "var_list.r",
     "varRefreshCmd": "cat(var_dic_list()) "
    }
   },
   "types_to_exclude": [
    "module",
    "function",
    "builtin_function_or_method",
    "instance",
    "_Feature"
   ],
   "window_display": false
  }
 },
 "nbformat": 4,
 "nbformat_minor": 2
}
