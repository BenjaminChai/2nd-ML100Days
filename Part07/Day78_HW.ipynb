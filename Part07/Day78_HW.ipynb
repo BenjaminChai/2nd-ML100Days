{
 "cells": [
  {
   "cell_type": "markdown",
   "metadata": {},
   "source": [
    "## Work\n",
    "1. 請嘗試將 preproc_x 替換成以每筆資料的 min/max 進行標準化至 -1 ~ 1 間，再進行訓練\n",
    "2. 請嘗試將 mlp 疊更深 (e.g 5~10 層)，進行訓練後觀察 learning curve 的走勢\n",
    "3. (optional) 請改用 GPU 進行訓練 (如果你有 GPU 的話)，比較使用 CPU 與 GPU 的訓練速度"
   ]
  },
  {
   "cell_type": "code",
   "execution_count": 1,
   "metadata": {},
   "outputs": [],
   "source": [
    "## \n",
    "\"\"\"\n",
    "Your code here (optional)\n",
    "確認硬體資源\n",
    "\"\"\"\n"
   ]
  },
  {
   "cell_type": "code",
   "execution_count": 1,
   "metadata": {
    "ExecuteTime": {
     "end_time": "2019-07-16T17:41:38.951558Z",
     "start_time": "2019-07-16T17:41:36.800481Z"
    }
   },
   "outputs": [
    {
     "name": "stderr",
     "output_type": "stream",
     "text": [
      "Using TensorFlow backend.\n"
     ]
    }
   ],
   "source": [
    "import os\n",
    "import keras\n",
    "\n",
    "# 請嘗試設定 GPU：os.environ\n"
   ]
  },
  {
   "cell_type": "code",
   "execution_count": 2,
   "metadata": {
    "ExecuteTime": {
     "end_time": "2019-07-16T17:41:39.278581Z",
     "start_time": "2019-07-16T17:41:38.967509Z"
    }
   },
   "outputs": [],
   "source": [
    "train, test = keras.datasets.cifar10.load_data()"
   ]
  },
  {
   "cell_type": "code",
   "execution_count": 3,
   "metadata": {
    "ExecuteTime": {
     "end_time": "2019-07-16T17:41:39.312507Z",
     "start_time": "2019-07-16T17:41:39.303502Z"
    }
   },
   "outputs": [
    {
     "data": {
      "text/plain": [
       "(50000, 32, 32, 3)"
      ]
     },
     "execution_count": 3,
     "metadata": {},
     "output_type": "execute_result"
    }
   ],
   "source": [
    "train[0].shape"
   ]
  },
  {
   "cell_type": "code",
   "execution_count": 4,
   "metadata": {
    "ExecuteTime": {
     "end_time": "2019-07-16T17:41:39.346505Z",
     "start_time": "2019-07-16T17:41:39.339502Z"
    }
   },
   "outputs": [],
   "source": [
    "## 資料前處理\n",
    "\"\"\"\n",
    "Your code here\n",
    "\"\"\"\n",
    "def preproc_x(x, flatten=True):\n",
    "    x = (x - x.min())/(x.max()-x.min()) - 0.5\n",
    "    \n",
    "    if flatten:\n",
    "        x = x.reshape((x.shape[0], -1))\n",
    "    \n",
    "    return x\n",
    "\n",
    "def preproc_y(y, num_classes=10):\n",
    "    if y.shape[-1] == 1:\n",
    "        y = keras.utils.to_categorical(y, num_classes)\n",
    "    return y    "
   ]
  },
  {
   "cell_type": "code",
   "execution_count": 5,
   "metadata": {
    "ExecuteTime": {
     "end_time": "2019-07-16T17:41:44.292839Z",
     "start_time": "2019-07-16T17:41:41.166843Z"
    }
   },
   "outputs": [],
   "source": [
    "x_train, y_train = train\n",
    "x_test, y_test = test\n",
    "\n",
    "# Preproc the inputs\n",
    "x_train = preproc_x(x_train)\n",
    "x_test = preproc_x(x_test)\n",
    "\n",
    "# Preprc the outputs\n",
    "y_train = preproc_y(y_train)\n",
    "y_test = preproc_y(y_test)"
   ]
  },
  {
   "cell_type": "code",
   "execution_count": 6,
   "metadata": {
    "ExecuteTime": {
     "end_time": "2019-07-16T17:41:44.450841Z",
     "start_time": "2019-07-16T17:41:44.325843Z"
    }
   },
   "outputs": [
    {
     "name": "stdout",
     "output_type": "stream",
     "text": [
      "WARNING:tensorflow:From C:\\Users\\benja\\Anaconda3\\envs\\ml_100_days\\lib\\site-packages\\tensorflow\\python\\framework\\op_def_library.py:263: colocate_with (from tensorflow.python.framework.ops) is deprecated and will be removed in a future version.\n",
      "Instructions for updating:\n",
      "Colocations handled automatically by placer.\n",
      "_________________________________________________________________\n",
      "Layer (type)                 Output Shape              Param #   \n",
      "=================================================================\n",
      "input_1 (InputLayer)         (None, 3072)              0         \n",
      "_________________________________________________________________\n",
      "hidden_layer1 (Dense)        (None, 512)               1573376   \n",
      "_________________________________________________________________\n",
      "hidden_layer2 (Dense)        (None, 512)               262656    \n",
      "_________________________________________________________________\n",
      "hidden_layer3 (Dense)        (None, 256)               131328    \n",
      "_________________________________________________________________\n",
      "hidden_layer4 (Dense)        (None, 256)               65792     \n",
      "_________________________________________________________________\n",
      "hidden_layer5 (Dense)        (None, 128)               32896     \n",
      "_________________________________________________________________\n",
      "hidden_layer6 (Dense)        (None, 128)               16512     \n",
      "_________________________________________________________________\n",
      "hidden_layer7 (Dense)        (None, 64)                8256      \n",
      "_________________________________________________________________\n",
      "hidden_layer8 (Dense)        (None, 64)                4160      \n",
      "_________________________________________________________________\n",
      "output (Dense)               (None, 10)                650       \n",
      "=================================================================\n",
      "Total params: 2,095,626\n",
      "Trainable params: 2,095,626\n",
      "Non-trainable params: 0\n",
      "_________________________________________________________________\n"
     ]
    }
   ],
   "source": [
    "\"\"\"Code Here\n",
    "建立你的神經網路\n",
    "\"\"\"\n",
    "def build_mlp(input_shape, output_units=10, num_neurons=[512, 512, 256, 256, 128, 128, 64, 64]):\n",
    "    input_layer = keras.layers.Input(input_shape)\n",
    "    \n",
    "    for i, n_units in enumerate(num_neurons):\n",
    "        if i == 0:\n",
    "            x = keras.layers.Dense(units=n_units, activation=\"relu\", name=\"hidden_layer\"+str(i+1))(input_layer)\n",
    "        else:\n",
    "            x = keras.layers.Dense(units=n_units, activation=\"relu\", name=\"hidden_layer\"+str(i+1))(x)\n",
    "    \n",
    "    out = keras.layers.Dense(units=output_units, activation=\"softmax\", name=\"output\")(x)\n",
    "    \n",
    "    model = keras.models.Model(inputs=[input_layer], outputs=[out])\n",
    "    \n",
    "    return model\n",
    "\n",
    "\n",
    "model = build_mlp(input_shape=x_train.shape[1:])\n",
    "model.summary()"
   ]
  },
  {
   "cell_type": "code",
   "execution_count": 7,
   "metadata": {
    "ExecuteTime": {
     "end_time": "2019-07-16T17:41:45.161842Z",
     "start_time": "2019-07-16T17:41:45.158859Z"
    }
   },
   "outputs": [],
   "source": [
    "## 超參數設定\n",
    "LEARNING_RATE = 0.001\n",
    "EPOCHS = 100\n",
    "BATCH_SIZE = 256"
   ]
  },
  {
   "cell_type": "code",
   "execution_count": 8,
   "metadata": {
    "ExecuteTime": {
     "end_time": "2019-07-16T17:41:45.582999Z",
     "start_time": "2019-07-16T17:41:45.541987Z"
    }
   },
   "outputs": [],
   "source": [
    "optimizer = keras.optimizers.Adam(lr=LEARNING_RATE)\n",
    "model.compile(loss=\"categorical_crossentropy\", metrics=[\"accuracy\"], optimizer=optimizer)"
   ]
  },
  {
   "cell_type": "code",
   "execution_count": 9,
   "metadata": {
    "ExecuteTime": {
     "end_time": "2019-07-16T17:47:37.430909Z",
     "start_time": "2019-07-16T17:41:46.861860Z"
    }
   },
   "outputs": [
    {
     "name": "stdout",
     "output_type": "stream",
     "text": [
      "WARNING:tensorflow:From C:\\Users\\benja\\Anaconda3\\envs\\ml_100_days\\lib\\site-packages\\tensorflow\\python\\ops\\math_ops.py:3066: to_int32 (from tensorflow.python.ops.math_ops) is deprecated and will be removed in a future version.\n",
      "Instructions for updating:\n",
      "Use tf.cast instead.\n",
      "Train on 50000 samples, validate on 10000 samples\n",
      "Epoch 1/100\n",
      "50000/50000 [==============================] - 5s 109us/step - loss: 1.7616 - acc: 0.3688 - val_loss: 1.5900 - val_acc: 0.4251\n",
      "Epoch 2/100\n",
      "50000/50000 [==============================] - 3s 67us/step - loss: 1.5046 - acc: 0.4651 - val_loss: 1.5060 - val_acc: 0.4690\n",
      "Epoch 3/100\n",
      "50000/50000 [==============================] - 3s 68us/step - loss: 1.3734 - acc: 0.5164 - val_loss: 1.4009 - val_acc: 0.5050\n",
      "Epoch 4/100\n",
      "50000/50000 [==============================] - 3s 67us/step - loss: 1.2644 - acc: 0.5559 - val_loss: 1.3915 - val_acc: 0.5113\n",
      "Epoch 5/100\n",
      "50000/50000 [==============================] - 3s 69us/step - loss: 1.1794 - acc: 0.5845 - val_loss: 1.3457 - val_acc: 0.5316\n",
      "Epoch 6/100\n",
      "50000/50000 [==============================] - 3s 70us/step - loss: 1.0815 - acc: 0.6200 - val_loss: 1.3480 - val_acc: 0.5329\n",
      "Epoch 7/100\n",
      "50000/50000 [==============================] - 3s 68us/step - loss: 1.0024 - acc: 0.6460 - val_loss: 1.3430 - val_acc: 0.5371\n",
      "Epoch 8/100\n",
      "50000/50000 [==============================] - 3s 67us/step - loss: 0.9188 - acc: 0.6745 - val_loss: 1.3729 - val_acc: 0.5298A: 0s - loss: 0.9078 \n",
      "Epoch 9/100\n",
      "50000/50000 [==============================] - 3s 70us/step - loss: 0.8408 - acc: 0.7038 - val_loss: 1.4377 - val_acc: 0.5429\n",
      "Epoch 10/100\n",
      "50000/50000 [==============================] - 4s 71us/step - loss: 0.7565 - acc: 0.7322 - val_loss: 1.4948 - val_acc: 0.5435\n",
      "Epoch 11/100\n",
      "50000/50000 [==============================] - 4s 76us/step - loss: 0.6824 - acc: 0.7598 - val_loss: 1.5334 - val_acc: 0.5305\n",
      "Epoch 12/100\n",
      "50000/50000 [==============================] - 4s 80us/step - loss: 0.6064 - acc: 0.7867 - val_loss: 1.6144 - val_acc: 0.5389\n",
      "Epoch 13/100\n",
      "50000/50000 [==============================] - 4s 73us/step - loss: 0.5530 - acc: 0.8052 - val_loss: 1.6741 - val_acc: 0.5401\n",
      "Epoch 14/100\n",
      "50000/50000 [==============================] - 4s 78us/step - loss: 0.4952 - acc: 0.8272 - val_loss: 1.7194 - val_acc: 0.5338\n",
      "Epoch 15/100\n",
      "50000/50000 [==============================] - 4s 78us/step - loss: 0.4472 - acc: 0.8437 - val_loss: 1.9022 - val_acc: 0.5321\n",
      "Epoch 16/100\n",
      "50000/50000 [==============================] - 4s 70us/step - loss: 0.4017 - acc: 0.8595 - val_loss: 1.9306 - val_acc: 0.5338\n",
      "Epoch 17/100\n",
      "50000/50000 [==============================] - 3s 68us/step - loss: 0.3644 - acc: 0.8731 - val_loss: 2.0674 - val_acc: 0.5330\n",
      "Epoch 18/100\n",
      "50000/50000 [==============================] - 3s 69us/step - loss: 0.3196 - acc: 0.8887 - val_loss: 2.2023 - val_acc: 0.5364\n",
      "Epoch 19/100\n",
      "50000/50000 [==============================] - 4s 71us/step - loss: 0.2960 - acc: 0.8974 - val_loss: 2.2446 - val_acc: 0.5266\n",
      "Epoch 20/100\n",
      "50000/50000 [==============================] - 3s 69us/step - loss: 0.2655 - acc: 0.9084 - val_loss: 2.2672 - val_acc: 0.5348\n",
      "Epoch 21/100\n",
      "50000/50000 [==============================] - 3s 68us/step - loss: 0.2511 - acc: 0.9139 - val_loss: 2.3531 - val_acc: 0.5370\n",
      "Epoch 22/100\n",
      "50000/50000 [==============================] - 3s 68us/step - loss: 0.2266 - acc: 0.9238 - val_loss: 2.4267 - val_acc: 0.5357\n",
      "Epoch 23/100\n",
      "50000/50000 [==============================] - 3s 69us/step - loss: 0.2070 - acc: 0.9288 - val_loss: 2.4743 - val_acc: 0.5368\n",
      "Epoch 24/100\n",
      "50000/50000 [==============================] - 4s 70us/step - loss: 0.2048 - acc: 0.9292 - val_loss: 2.5053 - val_acc: 0.5408\n",
      "Epoch 25/100\n",
      "50000/50000 [==============================] - 3s 70us/step - loss: 0.1844 - acc: 0.9363 - val_loss: 2.4891 - val_acc: 0.5379\n",
      "Epoch 26/100\n",
      "50000/50000 [==============================] - 3s 69us/step - loss: 0.1756 - acc: 0.9406 - val_loss: 2.6503 - val_acc: 0.5416- loss: 0.1748 - acc: 0.94\n",
      "Epoch 27/100\n",
      "50000/50000 [==============================] - 3s 70us/step - loss: 0.1661 - acc: 0.9429 - val_loss: 2.6338 - val_acc: 0.5322\n",
      "Epoch 28/100\n",
      "50000/50000 [==============================] - 3s 67us/step - loss: 0.1540 - acc: 0.9487 - val_loss: 2.7506 - val_acc: 0.5312\n",
      "Epoch 29/100\n",
      "50000/50000 [==============================] - 4s 70us/step - loss: 0.1540 - acc: 0.9480 - val_loss: 2.8573 - val_acc: 0.5323\n",
      "Epoch 30/100\n",
      "50000/50000 [==============================] - 4s 70us/step - loss: 0.1454 - acc: 0.9502 - val_loss: 2.8450 - val_acc: 0.5314\n",
      "Epoch 31/100\n",
      "50000/50000 [==============================] - 4s 70us/step - loss: 0.1447 - acc: 0.9517 - val_loss: 2.7437 - val_acc: 0.5342\n",
      "Epoch 32/100\n",
      "50000/50000 [==============================] - 4s 71us/step - loss: 0.1309 - acc: 0.9566 - val_loss: 2.9574 - val_acc: 0.5355\n",
      "Epoch 33/100\n",
      "50000/50000 [==============================] - 4s 76us/step - loss: 0.1321 - acc: 0.9563 - val_loss: 2.8608 - val_acc: 0.5382\n",
      "Epoch 34/100\n",
      "50000/50000 [==============================] - 3s 70us/step - loss: 0.1175 - acc: 0.9608 - val_loss: 2.8481 - val_acc: 0.5355\n",
      "Epoch 35/100\n",
      "50000/50000 [==============================] - 3s 69us/step - loss: 0.1274 - acc: 0.9577 - val_loss: 2.8661 - val_acc: 0.5345\n",
      "Epoch 36/100\n",
      "50000/50000 [==============================] - 3s 68us/step - loss: 0.1114 - acc: 0.9638 - val_loss: 2.9408 - val_acc: 0.5420\n",
      "Epoch 37/100\n",
      "50000/50000 [==============================] - 3s 68us/step - loss: 0.1071 - acc: 0.9647 - val_loss: 2.8145 - val_acc: 0.5346\n",
      "Epoch 38/100\n",
      "50000/50000 [==============================] - 3s 70us/step - loss: 0.1063 - acc: 0.9648 - val_loss: 2.9142 - val_acc: 0.5385\n",
      "Epoch 39/100\n",
      "50000/50000 [==============================] - 3s 68us/step - loss: 0.1097 - acc: 0.9638 - val_loss: 2.9810 - val_acc: 0.5340\n",
      "Epoch 40/100\n",
      "50000/50000 [==============================] - 3s 68us/step - loss: 0.1013 - acc: 0.9666 - val_loss: 2.9857 - val_acc: 0.5345\n",
      "Epoch 41/100\n",
      "50000/50000 [==============================] - 3s 67us/step - loss: 0.1018 - acc: 0.9667 - val_loss: 3.0158 - val_acc: 0.5354\n",
      "Epoch 42/100\n",
      "50000/50000 [==============================] - 3s 69us/step - loss: 0.1036 - acc: 0.9653 - val_loss: 2.8749 - val_acc: 0.5278\n",
      "Epoch 43/100\n",
      "50000/50000 [==============================] - 3s 67us/step - loss: 0.1040 - acc: 0.9657 - val_loss: 2.8772 - val_acc: 0.5460\n",
      "Epoch 44/100\n",
      "50000/50000 [==============================] - 3s 67us/step - loss: 0.0880 - acc: 0.9716 - val_loss: 3.0342 - val_acc: 0.5390\n",
      "Epoch 45/100\n",
      "50000/50000 [==============================] - 3s 69us/step - loss: 0.0940 - acc: 0.9698 - val_loss: 2.9582 - val_acc: 0.5353\n",
      "Epoch 46/100\n",
      "50000/50000 [==============================] - 3s 69us/step - loss: 0.0834 - acc: 0.9724 - val_loss: 3.2261 - val_acc: 0.5382\n",
      "Epoch 47/100\n",
      "50000/50000 [==============================] - 4s 71us/step - loss: 0.0820 - acc: 0.9725 - val_loss: 3.0338 - val_acc: 0.5316\n",
      "Epoch 48/100\n",
      "50000/50000 [==============================] - 4s 71us/step - loss: 0.0876 - acc: 0.9708 - val_loss: 3.0376 - val_acc: 0.5341\n",
      "Epoch 49/100\n",
      "50000/50000 [==============================] - 3s 69us/step - loss: 0.0883 - acc: 0.9705 - val_loss: 3.0822 - val_acc: 0.5375\n",
      "Epoch 50/100\n",
      "50000/50000 [==============================] - 3s 70us/step - loss: 0.0758 - acc: 0.9756 - val_loss: 3.1105 - val_acc: 0.5362\n",
      "Epoch 51/100\n",
      "50000/50000 [==============================] - 3s 69us/step - loss: 0.0896 - acc: 0.9706 - val_loss: 3.0785 - val_acc: 0.5353\n",
      "Epoch 52/100\n",
      "50000/50000 [==============================] - 3s 68us/step - loss: 0.0743 - acc: 0.9755 - val_loss: 3.0866 - val_acc: 0.5365\n",
      "Epoch 53/100\n",
      "50000/50000 [==============================] - 3s 68us/step - loss: 0.0789 - acc: 0.9741 - val_loss: 2.9371 - val_acc: 0.5440\n",
      "Epoch 54/100\n",
      "50000/50000 [==============================] - 3s 69us/step - loss: 0.0724 - acc: 0.9765 - val_loss: 3.1347 - val_acc: 0.5394\n",
      "Epoch 55/100\n",
      "50000/50000 [==============================] - 3s 68us/step - loss: 0.0766 - acc: 0.9752 - val_loss: 3.3061 - val_acc: 0.5431\n",
      "Epoch 56/100\n",
      "50000/50000 [==============================] - 3s 68us/step - loss: 0.0707 - acc: 0.9775 - val_loss: 3.3554 - val_acc: 0.5398\n",
      "Epoch 57/100\n"
     ]
    },
    {
     "name": "stdout",
     "output_type": "stream",
     "text": [
      "50000/50000 [==============================] - 3s 69us/step - loss: 0.0836 - acc: 0.9728 - val_loss: 3.3397 - val_acc: 0.5385s - loss:\n",
      "Epoch 58/100\n",
      "50000/50000 [==============================] - 3s 69us/step - loss: 0.0685 - acc: 0.9775 - val_loss: 3.0617 - val_acc: 0.5375\n",
      "Epoch 59/100\n",
      "50000/50000 [==============================] - 3s 69us/step - loss: 0.0784 - acc: 0.9744 - val_loss: 3.1906 - val_acc: 0.5461\n",
      "Epoch 60/100\n",
      "50000/50000 [==============================] - 3s 69us/step - loss: 0.0658 - acc: 0.9786 - val_loss: 3.2449 - val_acc: 0.5359\n",
      "Epoch 61/100\n",
      "50000/50000 [==============================] - 3s 69us/step - loss: 0.0724 - acc: 0.9762 - val_loss: 3.3187 - val_acc: 0.5457\n",
      "Epoch 62/100\n",
      "50000/50000 [==============================] - 3s 68us/step - loss: 0.0643 - acc: 0.9799 - val_loss: 3.3850 - val_acc: 0.5356\n",
      "Epoch 63/100\n",
      "50000/50000 [==============================] - 3s 68us/step - loss: 0.0693 - acc: 0.9777 - val_loss: 3.0510 - val_acc: 0.5508\n",
      "Epoch 64/100\n",
      "50000/50000 [==============================] - 3s 69us/step - loss: 0.0701 - acc: 0.9780 - val_loss: 3.1059 - val_acc: 0.5413\n",
      "Epoch 65/100\n",
      "50000/50000 [==============================] - 3s 69us/step - loss: 0.0594 - acc: 0.9808 - val_loss: 3.3542 - val_acc: 0.5339\n",
      "Epoch 66/100\n",
      "50000/50000 [==============================] - 3s 68us/step - loss: 0.0665 - acc: 0.9786 - val_loss: 3.1003 - val_acc: 0.5365\n",
      "Epoch 67/100\n",
      "50000/50000 [==============================] - 4s 70us/step - loss: 0.0627 - acc: 0.9801 - val_loss: 3.2338 - val_acc: 0.5404\n",
      "Epoch 68/100\n",
      "50000/50000 [==============================] - 3s 69us/step - loss: 0.0643 - acc: 0.9791 - val_loss: 3.1912 - val_acc: 0.5434\n",
      "Epoch 69/100\n",
      "50000/50000 [==============================] - 3s 68us/step - loss: 0.0624 - acc: 0.9808 - val_loss: 3.2719 - val_acc: 0.5439\n",
      "Epoch 70/100\n",
      "50000/50000 [==============================] - 3s 68us/step - loss: 0.0598 - acc: 0.9817 - val_loss: 3.1178 - val_acc: 0.5401\n",
      "Epoch 71/100\n",
      "50000/50000 [==============================] - 3s 69us/step - loss: 0.0548 - acc: 0.9821 - val_loss: 3.1469 - val_acc: 0.5363\n",
      "Epoch 72/100\n",
      "50000/50000 [==============================] - 3s 70us/step - loss: 0.0686 - acc: 0.9778 - val_loss: 3.2341 - val_acc: 0.5359\n",
      "Epoch 73/100\n",
      "50000/50000 [==============================] - 3s 70us/step - loss: 0.0564 - acc: 0.9823 - val_loss: 3.3330 - val_acc: 0.5408\n",
      "Epoch 74/100\n",
      "50000/50000 [==============================] - 3s 69us/step - loss: 0.0627 - acc: 0.9800 - val_loss: 3.0577 - val_acc: 0.5401\n",
      "Epoch 75/100\n",
      "50000/50000 [==============================] - 4s 72us/step - loss: 0.0648 - acc: 0.9787 - val_loss: 2.9706 - val_acc: 0.5398\n",
      "Epoch 76/100\n",
      "50000/50000 [==============================] - 4s 70us/step - loss: 0.0509 - acc: 0.9841 - val_loss: 3.1850 - val_acc: 0.5377\n",
      "Epoch 77/100\n",
      "50000/50000 [==============================] - 3s 68us/step - loss: 0.0566 - acc: 0.9823 - val_loss: 2.9963 - val_acc: 0.5391\n",
      "Epoch 78/100\n",
      "50000/50000 [==============================] - 4s 72us/step - loss: 0.0490 - acc: 0.9850 - val_loss: 3.2013 - val_acc: 0.5402\n",
      "Epoch 79/100\n",
      "50000/50000 [==============================] - 3s 68us/step - loss: 0.0615 - acc: 0.9803 - val_loss: 3.1745 - val_acc: 0.5506\n",
      "Epoch 80/100\n",
      "50000/50000 [==============================] - 3s 67us/step - loss: 0.0587 - acc: 0.9817 - val_loss: 3.2732 - val_acc: 0.5391\n",
      "Epoch 81/100\n",
      "50000/50000 [==============================] - 4s 76us/step - loss: 0.0598 - acc: 0.9813 - val_loss: 3.3127 - val_acc: 0.5416\n",
      "Epoch 82/100\n",
      "50000/50000 [==============================] - 4s 78us/step - loss: 0.0567 - acc: 0.9826 - val_loss: 3.3533 - val_acc: 0.5457\n",
      "Epoch 83/100\n",
      "50000/50000 [==============================] - 4s 73us/step - loss: 0.0531 - acc: 0.9825 - val_loss: 3.2662 - val_acc: 0.5408\n",
      "Epoch 84/100\n",
      "50000/50000 [==============================] - 3s 68us/step - loss: 0.0475 - acc: 0.9845 - val_loss: 3.5074 - val_acc: 0.5426\n",
      "Epoch 85/100\n",
      "50000/50000 [==============================] - 3s 67us/step - loss: 0.0564 - acc: 0.9824 - val_loss: 3.2231 - val_acc: 0.5442\n",
      "Epoch 86/100\n",
      "50000/50000 [==============================] - 3s 70us/step - loss: 0.0419 - acc: 0.9863 - val_loss: 3.4266 - val_acc: 0.54625 - acc:\n",
      "Epoch 87/100\n",
      "50000/50000 [==============================] - 3s 69us/step - loss: 0.0519 - acc: 0.9843 - val_loss: 3.1630 - val_acc: 0.5362\n",
      "Epoch 88/100\n",
      "50000/50000 [==============================] - 3s 68us/step - loss: 0.0562 - acc: 0.9829 - val_loss: 3.1943 - val_acc: 0.5424\n",
      "Epoch 89/100\n",
      "50000/50000 [==============================] - 3s 70us/step - loss: 0.0478 - acc: 0.9846 - val_loss: 3.1354 - val_acc: 0.5351\n",
      "Epoch 90/100\n",
      "50000/50000 [==============================] - 3s 68us/step - loss: 0.0503 - acc: 0.9847 - val_loss: 3.4641 - val_acc: 0.5431\n",
      "Epoch 91/100\n",
      "50000/50000 [==============================] - 3s 69us/step - loss: 0.0561 - acc: 0.9820 - val_loss: 3.1928 - val_acc: 0.5421\n",
      "Epoch 92/100\n",
      "50000/50000 [==============================] - 3s 68us/step - loss: 0.0487 - acc: 0.9847 - val_loss: 3.1238 - val_acc: 0.5416\n",
      "Epoch 93/100\n",
      "50000/50000 [==============================] - 4s 70us/step - loss: 0.0402 - acc: 0.9873 - val_loss: 3.2260 - val_acc: 0.5386\n",
      "Epoch 94/100\n",
      "50000/50000 [==============================] - 4s 70us/step - loss: 0.0453 - acc: 0.9855 - val_loss: 3.5685 - val_acc: 0.5360\n",
      "Epoch 95/100\n",
      "50000/50000 [==============================] - 3s 70us/step - loss: 0.0634 - acc: 0.9800 - val_loss: 3.2727 - val_acc: 0.5402\n",
      "Epoch 96/100\n",
      "50000/50000 [==============================] - 3s 69us/step - loss: 0.0458 - acc: 0.9866 - val_loss: 3.4201 - val_acc: 0.5351\n",
      "Epoch 97/100\n",
      "50000/50000 [==============================] - 3s 68us/step - loss: 0.0437 - acc: 0.9863 - val_loss: 3.4518 - val_acc: 0.5421\n",
      "Epoch 98/100\n",
      "50000/50000 [==============================] - 3s 69us/step - loss: 0.0402 - acc: 0.9869 - val_loss: 3.4403 - val_acc: 0.5394\n",
      "Epoch 99/100\n",
      "50000/50000 [==============================] - 3s 69us/step - loss: 0.0458 - acc: 0.9857 - val_loss: 3.3830 - val_acc: 0.5432\n",
      "Epoch 100/100\n",
      "50000/50000 [==============================] - 3s 69us/step - loss: 0.0533 - acc: 0.9833 - val_loss: 3.2232 - val_acc: 0.5476\n"
     ]
    },
    {
     "data": {
      "text/plain": [
       "<keras.callbacks.History at 0x1903fedfac8>"
      ]
     },
     "execution_count": 9,
     "metadata": {},
     "output_type": "execute_result"
    }
   ],
   "source": [
    "model.fit(x_train, y_train, \n",
    "          epochs=EPOCHS, \n",
    "          batch_size=BATCH_SIZE, \n",
    "          validation_data=(x_test, y_test), \n",
    "          shuffle=True)"
   ]
  },
  {
   "cell_type": "code",
   "execution_count": 12,
   "metadata": {
    "ExecuteTime": {
     "end_time": "2019-07-16T17:53:05.752051Z",
     "start_time": "2019-07-16T17:53:05.485036Z"
    }
   },
   "outputs": [
    {
     "data": {
      "image/png": "[encoded data removed]",
      "text/plain": [
       "<Figure size 432x288 with 1 Axes>"
      ]
     },
     "metadata": {
      "needs_background": "light"
     },
     "output_type": "display_data"
    },
    {
     "data": {
      "image/png": "[encoded data removed]",
      "text/plain": [
       "<Figure size 432x288 with 1 Axes>"
      ]
     },
     "metadata": {
      "needs_background": "light"
     },
     "output_type": "display_data"
    }
   ],
   "source": [
    "import matplotlib.pyplot as plt\n",
    "\n",
    "%matplotlib inline\n",
    "\n",
    "train_loss = model.history.history[\"loss\"]\n",
    "valid_loss = model.history.history[\"val_loss\"]\n",
    "\n",
    "train_acc = model.history.history[\"acc\"]\n",
    "valid_acc = model.history.history[\"val_acc\"]\n",
    "\n",
    "plt.plot(range(len(train_loss)), train_loss, label=\"train loss\")\n",
    "plt.plot(range(len(valid_loss)), valid_loss, label=\"valid loss\")\n",
    "plt.legend()\n",
    "plt.title(\"Loss\")\n",
    "plt.show()\n",
    "\n",
    "plt.plot(range(len(train_acc)), train_acc, label=\"train accuracy\")\n",
    "plt.plot(range(len(valid_acc)), valid_acc, label=\"valid accuracy\")\n",
    "plt.legend()\n",
    "plt.title(\"Accuracy\")\n",
    "plt.show()"
   ]
  },
  {
   "cell_type": "markdown",
   "metadata": {},
   "source": [
    "- 對比原本模型，在training dataset上的擬合效果更好，雖然一樣有overfit，但反而狀況友好一些？ 也可能是因為模型更複雜，若繼續訓練下去可能就會有更明顯overfit?"
   ]
  }
 ],
 "metadata": {
  "kernelspec": {
   "display_name": "ML 100 Days",
   "language": "python",
   "name": "ml_100_days"
  },
  "language_info": {
   "codemirror_mode": {
    "name": "ipython",
    "version": 3
   },
   "file_extension": ".py",
   "mimetype": "text/x-python",
   "name": "python",
   "nbconvert_exporter": "python",
   "pygments_lexer": "ipython3",
   "version": "3.7.1"
  },
  "toc": {
   "base_numbering": 1,
   "nav_menu": {},
   "number_sections": true,
   "sideBar": true,
   "skip_h1_title": false,
   "title_cell": "Table of Contents",
   "title_sidebar": "Contents",
   "toc_cell": false,
   "toc_position": {},
   "toc_section_display": true,
   "toc_window_display": false
  },
  "varInspector": {
   "cols": {
    "lenName": 16,
    "lenType": 16,
    "lenVar": 40
   },
   "kernels_config": {
    "python": {
     "delete_cmd_postfix": "",
     "delete_cmd_prefix": "del ",
     "library": "var_list.py",
     "varRefreshCmd": "print(var_dic_list())"
    },
    "r": {
     "delete_cmd_postfix": ") ",
     "delete_cmd_prefix": "rm(",
     "library": "var_list.r",
     "varRefreshCmd": "cat(var_dic_list()) "
    }
   },
   "types_to_exclude": [
    "module",
    "function",
    "builtin_function_or_method",
    "instance",
    "_Feature"
   ],
   "window_display": false
  }
 },
 "nbformat": 4,
 "nbformat_minor": 2
}
